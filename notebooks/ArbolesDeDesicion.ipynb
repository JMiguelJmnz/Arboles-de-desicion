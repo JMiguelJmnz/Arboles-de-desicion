{
 "cells": [
  {
   "cell_type": "code",
   "execution_count": 73,
   "id": "61f10967-1af2-4e33-929c-8c15cc2e83ea",
   "metadata": {},
   "outputs": [
    {
     "data": {
      "text/html": [
       "<div>\n",
       "<style scoped>\n",
       "    .dataframe tbody tr th:only-of-type {\n",
       "        vertical-align: middle;\n",
       "    }\n",
       "\n",
       "    .dataframe tbody tr th {\n",
       "        vertical-align: top;\n",
       "    }\n",
       "\n",
       "    .dataframe thead th {\n",
       "        text-align: right;\n",
       "    }\n",
       "</style>\n",
       "<table border=\"1\" class=\"dataframe\">\n",
       "  <thead>\n",
       "    <tr style=\"text-align: right;\">\n",
       "      <th></th>\n",
       "      <th>Age</th>\n",
       "      <th>Sex</th>\n",
       "      <th>BP</th>\n",
       "      <th>Cholesterol</th>\n",
       "      <th>Na_to_K</th>\n",
       "      <th>Drug</th>\n",
       "    </tr>\n",
       "  </thead>\n",
       "  <tbody>\n",
       "    <tr>\n",
       "      <th>0</th>\n",
       "      <td>23</td>\n",
       "      <td>F</td>\n",
       "      <td>HIGH</td>\n",
       "      <td>HIGH</td>\n",
       "      <td>25.355</td>\n",
       "      <td>drugY</td>\n",
       "    </tr>\n",
       "    <tr>\n",
       "      <th>1</th>\n",
       "      <td>47</td>\n",
       "      <td>M</td>\n",
       "      <td>LOW</td>\n",
       "      <td>HIGH</td>\n",
       "      <td>13.093</td>\n",
       "      <td>drugC</td>\n",
       "    </tr>\n",
       "    <tr>\n",
       "      <th>2</th>\n",
       "      <td>47</td>\n",
       "      <td>M</td>\n",
       "      <td>LOW</td>\n",
       "      <td>HIGH</td>\n",
       "      <td>10.114</td>\n",
       "      <td>drugC</td>\n",
       "    </tr>\n",
       "    <tr>\n",
       "      <th>3</th>\n",
       "      <td>28</td>\n",
       "      <td>F</td>\n",
       "      <td>NORMAL</td>\n",
       "      <td>HIGH</td>\n",
       "      <td>7.798</td>\n",
       "      <td>drugX</td>\n",
       "    </tr>\n",
       "    <tr>\n",
       "      <th>4</th>\n",
       "      <td>61</td>\n",
       "      <td>F</td>\n",
       "      <td>LOW</td>\n",
       "      <td>HIGH</td>\n",
       "      <td>18.043</td>\n",
       "      <td>drugY</td>\n",
       "    </tr>\n",
       "  </tbody>\n",
       "</table>\n",
       "</div>"
      ],
      "text/plain": [
       "   Age Sex      BP Cholesterol  Na_to_K   Drug\n",
       "0   23   F    HIGH        HIGH   25.355  drugY\n",
       "1   47   M     LOW        HIGH   13.093  drugC\n",
       "2   47   M     LOW        HIGH   10.114  drugC\n",
       "3   28   F  NORMAL        HIGH    7.798  drugX\n",
       "4   61   F     LOW        HIGH   18.043  drugY"
      ]
     },
     "execution_count": 73,
     "metadata": {},
     "output_type": "execute_result"
    }
   ],
   "source": [
    "import pandas as pd\n",
    "from sklearn.tree import DecisionTreeClassifier\n",
    "from sklearn.model_selection import train_test_split\n",
    "from sklearn import metrics\n",
    "import matplotlib.pyplot as plt\n",
    "import numpy as np\n",
    "\n",
    "# import warnings\n",
    "# warnings.filterwarnings(\"ignore\")\n",
    "\n",
    "import os\n",
    "os.chdir(\"E:/EBAC/Material/M18\")\n",
    "\n",
    "drugs = pd.read_csv(\"drugs.csv\")\n",
    "drugs.head()"
   ]
  },
  {
   "cell_type": "code",
   "execution_count": 74,
   "id": "4366d5ec-5b64-4063-8e66-290f86604bee",
   "metadata": {},
   "outputs": [],
   "source": [
    "feature_cols = [\"Age\", \"Sex\", \"BP\", \"Cholesterol\", \"Na_to_K\"]\n",
    "X = drugs[feature_cols].values\n",
    "y = drugs.Drug"
   ]
  },
  {
   "cell_type": "code",
   "execution_count": 75,
   "id": "1057d3fe-87a6-4daa-882e-61af3c60f988",
   "metadata": {},
   "outputs": [],
   "source": [
    "from sklearn import preprocessing\n",
    "\n",
    "Cod_Sex = preprocessing.LabelEncoder()\n",
    "Cod_Sex.fit(np.unique(X[:,1]))\n",
    "X[:,1] = Cod_Sex.transform(X[:,1])\n",
    "\n",
    "Cod_BP = preprocessing.LabelEncoder()\n",
    "Cod_BP.fit(np.unique(X[:,2]))\n",
    "X[:,2] = Cod_BP.transform(X[:,2])\n",
    "\n",
    "Cod_Cholesterol = preprocessing.LabelEncoder()\n",
    "Cod_Cholesterol.fit(np.unique(X[:,3]))\n",
    "X[:,3] = Cod_Cholesterol.transform(X[:,3])"
   ]
  },
  {
   "cell_type": "code",
   "execution_count": 76,
   "id": "41490dc0-c412-4589-bec6-26554c0d313d",
   "metadata": {},
   "outputs": [
    {
     "data": {
      "text/plain": [
       "array([[23, 0, 0, 0, 25.355],\n",
       "       [47, 1, 1, 0, 13.093],\n",
       "       [47, 1, 1, 0, 10.114],\n",
       "       [28, 0, 2, 0, 7.798],\n",
       "       [61, 0, 1, 0, 18.043]], dtype=object)"
      ]
     },
     "execution_count": 76,
     "metadata": {},
     "output_type": "execute_result"
    }
   ],
   "source": [
    "X[0:5]"
   ]
  },
  {
   "cell_type": "code",
   "execution_count": 77,
   "id": "1441a4f5-214c-4248-8efe-f0204cc0113a",
   "metadata": {},
   "outputs": [
    {
     "data": {
      "text/plain": [
       "0    drugY\n",
       "1    drugC\n",
       "2    drugC\n",
       "3    drugX\n",
       "4    drugY\n",
       "Name: Drug, dtype: object"
      ]
     },
     "execution_count": 77,
     "metadata": {},
     "output_type": "execute_result"
    }
   ],
   "source": [
    "y[0:5]"
   ]
  },
  {
   "cell_type": "code",
   "execution_count": 121,
   "id": "5f916a5a-e65d-4fc4-b38b-0dd3b9ae7dad",
   "metadata": {},
   "outputs": [],
   "source": [
    "# Creación de grupos de entrenamiento y prueba\n",
    "\n",
    "X_train, X_test, y_train, y_test = train_test_split(X, y, test_size = 0.3, random_state = 1)"
   ]
  },
  {
   "cell_type": "code",
   "execution_count": 122,
   "id": "e28283d4-7683-4e08-ad6a-ace0cfd01b69",
   "metadata": {},
   "outputs": [],
   "source": [
    "# Crear objeto de clasificación del árbol de decisión\n",
    "clf = DecisionTreeClassifier(criterion = \"gini\", max_depth = 5)\n",
    "\n",
    "# Aplicación del algoritmo de árboles de decisión a los grupos de entrenamiento\n",
    "clf = clf.fit(X_train, y_train)\n",
    "\n",
    "# Predicción de la respuesta para el grupo de prueba\n",
    "y_pred = clf.predict(X_test)"
   ]
  },
  {
   "cell_type": "code",
   "execution_count": 111,
   "id": "fec67603-2163-48f5-ba4e-0ad06df00976",
   "metadata": {},
   "outputs": [
    {
     "data": {
      "text/plain": [
       "array([[ 4,  0,  0,  0,  0],\n",
       "       [ 2,  4,  0,  0,  0],\n",
       "       [ 0,  0,  4,  0,  0],\n",
       "       [ 0,  0,  0, 19,  0],\n",
       "       [ 0,  0,  0,  0, 27]], dtype=int64)"
      ]
     },
     "execution_count": 111,
     "metadata": {},
     "output_type": "execute_result"
    }
   ],
   "source": [
    "# Matriz de confusión\n",
    "from sklearn.metrics import confusion_matrix, classification_report\n",
    "cm = confusion_matrix(y_test, y_pred)\n",
    "cm"
   ]
  },
  {
   "cell_type": "code",
   "execution_count": 112,
   "id": "09967f8f-827a-4e4b-b428-7ab71796d39c",
   "metadata": {},
   "outputs": [
    {
     "name": "stdout",
     "output_type": "stream",
     "text": [
      "              precision    recall  f1-score   support\n",
      "\n",
      "       drugA       0.67      1.00      0.80         4\n",
      "       drugB       1.00      0.67      0.80         6\n",
      "       drugC       1.00      1.00      1.00         4\n",
      "       drugX       1.00      1.00      1.00        19\n",
      "       drugY       1.00      1.00      1.00        27\n",
      "\n",
      "    accuracy                           0.97        60\n",
      "   macro avg       0.93      0.93      0.92        60\n",
      "weighted avg       0.98      0.97      0.97        60\n",
      "\n"
     ]
    }
   ],
   "source": [
    "# Estadísticas de desempeño\n",
    "\n",
    "from sklearn.metrics import classification_report\n",
    "print(classification_report(y_test, y_pred))"
   ]
  },
  {
   "cell_type": "code",
   "execution_count": 113,
   "id": "25a6de2b-a6c6-4ba6-9813-f26d7cc00dc6",
   "metadata": {},
   "outputs": [],
   "source": [
    "from sklearn import tree\n",
    "import graphviz\n",
    "import pydotplus\n",
    "from PIL import Image"
   ]
  },
  {
   "cell_type": "code",
   "execution_count": 114,
   "id": "1cde2c02-910f-4d35-93e2-eb550097be0a",
   "metadata": {},
   "outputs": [],
   "source": [
    "# Creación de información para el árbol (Reglas de decisión)\n",
    "dot_data = tree.export_graphviz(clf, out_file=None, feature_names = feature_cols, class_names = [\"DrugA\", \"DrugB\", \"DrugC\", \"DrugX\", \"DrugY\"])\n",
    "\n",
    "# Creación de la gráfica del árbol\n",
    "graph = pydotplus.graph_from_dot_data(dot_data)"
   ]
  },
  {
   "cell_type": "code",
   "execution_count": 109,
   "id": "60c24044-1352-4aa9-89d2-5fc537df9914",
   "metadata": {},
   "outputs": [],
   "source": [
    "# Creacion del árbol en formato PDF\n",
    "graph.write_pdf(\"DrugGini.pdf\")\n",
    "\n",
    "# Creación del árbol en formato PNG\n",
    "graph.write_png(\"DrugGini.png\")\n",
    "\n",
    "image = Image.open(\"DrugGini.png\")\n",
    "image.show()"
   ]
  },
  {
   "cell_type": "markdown",
   "id": "d6d5c58b-6991-4211-8ddf-5acb688407d5",
   "metadata": {},
   "source": [
    "Al utilizar una base de entrenamiento de .2, el criterio Gini y sin definir una maxima profundidad, obtenemos resultados 100% certeros, lo que puede indicar que el modelo esta haciendo overfitting que en este caso puede resultar en la memorizacion de la informacion en lugar de generalizar patrones.\n",
    "Despues de ajustar los parametros a una base de entrenamiento de .3, criterio Gini y definir una maxima profundidad de 5 obtenemos una pequeña variacion en los datos lo que nos indica que puede estar funcionando mejor pero aun se necesita mejorar el uso del modelo."
   ]
  },
  {
   "cell_type": "code",
   "execution_count": 134,
   "id": "bf8a0321-7d2e-4ecf-9848-2fbde81772c2",
   "metadata": {},
   "outputs": [],
   "source": [
    "# Crear objeto de clasificación del árbol de decisión\n",
    "clf = DecisionTreeClassifier(criterion = \"entropy\", max_depth = 5)\n",
    "\n",
    "# Aplicación del algoritmo de árboles de decisión a los grupos de entrenamiento\n",
    "clf = clf.fit(X_train, y_train)\n",
    "\n",
    "# Predicción de la respuesta para el grupo de prueba\n",
    "y_pred = clf.predict(X_test)"
   ]
  },
  {
   "cell_type": "code",
   "execution_count": 135,
   "id": "46034844-5066-4cf7-87b0-2c67b0fe9f7b",
   "metadata": {},
   "outputs": [
    {
     "data": {
      "text/plain": [
       "array([[ 4,  0,  0,  0,  0],\n",
       "       [ 2,  4,  0,  0,  0],\n",
       "       [ 0,  0,  4,  0,  0],\n",
       "       [ 0,  0,  0, 19,  0],\n",
       "       [ 0,  0,  0,  0, 27]], dtype=int64)"
      ]
     },
     "execution_count": 135,
     "metadata": {},
     "output_type": "execute_result"
    }
   ],
   "source": [
    "# Matriz de confusión\n",
    "from sklearn.metrics import confusion_matrix, classification_report\n",
    "cm = confusion_matrix(y_test, y_pred)\n",
    "cm"
   ]
  },
  {
   "cell_type": "code",
   "execution_count": 136,
   "id": "c1b32de7-60b4-4e8e-9ea7-7c9c2d1410ed",
   "metadata": {},
   "outputs": [
    {
     "name": "stdout",
     "output_type": "stream",
     "text": [
      "              precision    recall  f1-score   support\n",
      "\n",
      "       drugA       0.67      1.00      0.80         4\n",
      "       drugB       1.00      0.67      0.80         6\n",
      "       drugC       1.00      1.00      1.00         4\n",
      "       drugX       1.00      1.00      1.00        19\n",
      "       drugY       1.00      1.00      1.00        27\n",
      "\n",
      "    accuracy                           0.97        60\n",
      "   macro avg       0.93      0.93      0.92        60\n",
      "weighted avg       0.98      0.97      0.97        60\n",
      "\n"
     ]
    }
   ],
   "source": [
    "# Estadísticas de desempeño\n",
    "\n",
    "from sklearn.metrics import classification_report\n",
    "print(classification_report(y_test, y_pred))"
   ]
  },
  {
   "cell_type": "code",
   "execution_count": 125,
   "id": "0a9d4cac-6efe-450e-9f74-5cf70915e45a",
   "metadata": {},
   "outputs": [],
   "source": [
    "# Creación de información para el árbol (Reglas de decisión)\n",
    "dot_data = tree.export_graphviz(clf, out_file=None, feature_names = feature_cols, class_names = [\"DrugA\", \"DrugB\", \"DrugC\", \"DrugX\", \"DrugY\"])\n",
    "\n",
    "# Creación de la gráfica del árbol\n",
    "graph = pydotplus.graph_from_dot_data(dot_data)"
   ]
  },
  {
   "cell_type": "code",
   "execution_count": 126,
   "id": "0bf76080-8c56-426b-a803-e2e0ef26a5c2",
   "metadata": {},
   "outputs": [],
   "source": [
    "# Creacion del árbol en formato PDF\n",
    "graph.write_pdf(\"DrugEntropy.pdf\")\n",
    "\n",
    "# Creación del árbol en formato PNG\n",
    "graph.write_png(\"DrugEntropy.png\")\n",
    "\n",
    "image = Image.open(\"DrugEntropy.png\")\n",
    "image.show()"
   ]
  },
  {
   "cell_type": "markdown",
   "id": "a6f8d27e-4943-46e3-909e-28a5aa44ed8f",
   "metadata": {},
   "source": [
    "Al utilizar el clasificador Entropy obtenemos diferentes valores para los clasificadores pero el mismo resultado en cuanto a las predicciones y la misma matriz de confusion, por lo que mi conclusion seria que podemos utilizar cualquiera de los dos resultados generados pero para mejorar la predicción necesitariamos conseguir mas información o probar con un modelo diferente."
   ]
  },
  {
   "cell_type": "markdown",
   "id": "e1f05485-08ca-46a0-9e96-33924a21048f",
   "metadata": {},
   "source": [
    "# Probar modelo con un nuevo paciente"
   ]
  },
  {
   "cell_type": "code",
   "execution_count": 132,
   "id": "45459b9b-b0c1-47b7-9bb8-1607a14bd368",
   "metadata": {},
   "outputs": [],
   "source": [
    "pacienteY = np.asarray([50, 0, 0, 1, 15.302]).reshape(1, -1)"
   ]
  },
  {
   "cell_type": "code",
   "execution_count": 133,
   "id": "9334cb05-03c6-4047-855e-4a35fc2d1bc6",
   "metadata": {},
   "outputs": [
    {
     "data": {
      "text/plain": [
       "array(['drugY'], dtype=object)"
      ]
     },
     "execution_count": 133,
     "metadata": {},
     "output_type": "execute_result"
    }
   ],
   "source": [
    "# Predicción de nuevo paciente\n",
    "y_pred = clf.predict(pacienteY)\n",
    "y_pred"
   ]
  },
  {
   "cell_type": "markdown",
   "id": "9621df5a-6497-4feb-9aab-0c95b2d44da0",
   "metadata": {},
   "source": [
    "El modelo muestra que el medicamento Y seria el mas apropiado para la paciente segun sus parametros"
   ]
  },
  {
   "cell_type": "code",
   "execution_count": null,
   "id": "daa7ce06-d58c-4352-bb78-98fd8083eda6",
   "metadata": {},
   "outputs": [],
   "source": []
  }
 ],
 "metadata": {
  "kernelspec": {
   "display_name": "Python 3 (ipykernel)",
   "language": "python",
   "name": "python3"
  },
  "language_info": {
   "codemirror_mode": {
    "name": "ipython",
    "version": 3
   },
   "file_extension": ".py",
   "mimetype": "text/x-python",
   "name": "python",
   "nbconvert_exporter": "python",
   "pygments_lexer": "ipython3",
   "version": "3.12.7"
  }
 },
 "nbformat": 4,
 "nbformat_minor": 5
}
